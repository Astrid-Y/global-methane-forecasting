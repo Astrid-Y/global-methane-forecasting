{
 "cells": [
  {
   "cell_type": "markdown",
   "metadata": {},
   "source": [
    "# Data preprocessing\n",
    "\n",
    "* Resample all data into the same spatial resolution (2x2 degrees).\n",
    "  \n",
    "* Combine all types of emissions into one feature.\n",
    "  \n",
    "* Unify the sampling frequency of all data into every 3 hours."
   ]
  },
  {
   "cell_type": "code",
   "execution_count": 24,
   "metadata": {},
   "outputs": [],
   "source": [
    "import numpy as np\n",
    "import pandas as pd\n",
    "import dask.array as da\n",
    "import xarray as xr\n",
    "import rasterio\n",
    "from rasterio.warp import Resampling\n",
    "import matplotlib.pyplot as plt"
   ]
  },
  {
   "cell_type": "code",
   "execution_count": 25,
   "metadata": {},
   "outputs": [],
   "source": [
    "from resample import resampling, yearly_resample, days_in_month, interpolate_daily"
   ]
  },
  {
   "cell_type": "code",
   "execution_count": 26,
   "metadata": {},
   "outputs": [],
   "source": [
    "# Parameters for resampling\n",
    "# data path\n",
    "emission_data_path = '../data/'\n",
    "# target resolution or target shape\n",
    "target_resolution = 2\n",
    "target_shape = (90,180) # 180/2, 360/2"
   ]
  },
  {
   "cell_type": "markdown",
   "metadata": {},
   "source": [
    "## Emission\n",
    "\n",
    "* 3 emissions are included: Anthropogenic, Wetland, Fire\n",
    "\n",
    "* Unify the unit of 3 emissions: convert the unit of Wetland emission from `kg m-2 mon-1` to `kg m-2 s-1`.\n",
    "  \n",
    "* Resample each emission separately and then sum them together.\n",
    "\n",
    "* Extand the sampling frequency of emissions to every 3 hours."
   ]
  },
  {
   "cell_type": "code",
   "execution_count": 36,
   "metadata": {},
   "outputs": [
    {
     "name": "stdout",
     "output_type": "stream",
     "text": [
      "sum before resample:  0.0055805813\n",
      "sum after resample:  0.005580697688856162\n"
     ]
    }
   ],
   "source": [
    "# Anthropogenic Emission: (1800,3600)->(90,180) : 0.1->2\n",
    "ant_emission = xr.open_mfdataset(emission_data_path + 'anthropogenic/*.nc')\n",
    "print(\"sum before resample: \", ant_emission['sum'].values.sum())\n",
    "ant_emission['sum'] = resampling(ant_emission['sum'], target_resolution, target_shape, target_crs = \"EPSG:4326\", resampler=Resampling.bilinear)\n",
    "print(\"sum after resample: \", ant_emission['sum'].values.sum()*(2/0.1)**2)\n",
    "ant_emission.to_netcdf(emission_data_path + \"resample/emissions/anthro.nc\")"
   ]
  },
  {
   "cell_type": "code",
   "execution_count": 52,
   "metadata": {},
   "outputs": [
    {
     "name": "stdout",
     "output_type": "stream",
     "text": [
      "sum before resample:  9.519453348091839e-05\n",
      "sum after resample:  9.519605213002704e-05\n"
     ]
    }
   ],
   "source": [
    "# Wetland Emission: (360,720)->(90,180) : 0.5->2\n",
    "wetland_emission = xr.open_mfdataset(emission_data_path + r'wetland/*.nc',)\n",
    "# convert unit from kg m-2 mon-1 to kg m-2 s-1\n",
    "time_dim = wetland_emission['time']\n",
    "seconds_in_month = days_in_month(time_dim) * 24 * 60 * 60\n",
    "seconds_in_month_da = xr.DataArray(seconds_in_month, dims=['time'], coords={'time': time_dim})\n",
    "wetland_emission['ch4_wl'] = wetland_emission['ch4_wl'] / seconds_in_month_da\n",
    "wetland_emission['ch4_wl'].attrs['units'] = 'kg CH4 m-2 s-1'\n",
    "print(\"sum before resample: \", wetland_emission['ch4_wl'].values.sum())\n",
    "wetland_emission = resampling(wetland_emission['ch4_wl'], target_resolution,target_shape , target_crs = \"EPSG:4326\", resampler=Resampling.bilinear)\n",
    "print(\"sum after resample: \", wetland_emission.values.sum()*(2/0.5)**2)\n",
    "wetland_emission = wetland_emission.to_dataset()\n",
    "wetland_emission.to_netcdf(emission_data_path + \"resample/emissions/wetland.nc\")"
   ]
  },
  {
   "cell_type": "code",
   "execution_count": 50,
   "metadata": {},
   "outputs": [],
   "source": [
    "# Fire Emission\n",
    "fire_emission = xr.open_dataset(emission_data_path + 'fire/CAMS_fire_0.1x0.1_2015-2018.nc', chunks={'time':1})\n",
    "fire_emission = yearly_resample(fire_emission['ch4fire'], target_resolution,target_shape , target_crs = \"EPSG:4326\", resampler=Resampling.bilinear)\n",
    "fire_emission.to_netcdf(emission_data_path + \"resample/emissions/fire.nc\")"
   ]
  },
  {
   "cell_type": "code",
   "execution_count": 54,
   "metadata": {},
   "outputs": [
    {
     "name": "stdout",
     "output_type": "stream",
     "text": [
      "sum after resample:  0.008235043108086653\n"
     ]
    }
   ],
   "source": [
    "print(\"sum after resample: \", fire_emission['ch4fire'].values.sum()*(2/0.1)**2)"
   ]
  },
  {
   "cell_type": "markdown",
   "metadata": {},
   "source": [
    "### Calculate sum of 3 emissions"
   ]
  },
  {
   "cell_type": "code",
   "execution_count": 56,
   "metadata": {},
   "outputs": [],
   "source": [
    "# interpolate data to daily\n",
    "wetland_daily = interpolate_daily(wetland_emission['ch4_wl'])\n",
    "ant_daily = interpolate_daily(ant_emission['sum'])\n",
    "fire_daily = fire_emission['ch4fire'].reindex_like(wetland_daily, method='nearest')\n",
    "ant_daily = ant_daily.reindex_like(wetland_daily, method='nearest')\n",
    "total_emission = wetland_daily + ant_daily + fire_daily\n",
    "total_emission = xr.Dataset({'sum':total_emission})\n",
    "total_emission['sum'].attrs['units'] = 'kg m-2 s-1'\n",
    "total_emission['sum'].attrs['long_name'] = 'Total emission for CH4'\n",
    "total_emission.to_netcdf(emission_data_path + \"resample/emissions_daily.nc\")"
   ]
  },
  {
   "cell_type": "code",
   "execution_count": 57,
   "metadata": {},
   "outputs": [],
   "source": [
    "# extand data to every 3 hours\n",
    "all_times = pd.date_range(start=total_emission['time'].values.min(), end=total_emission['time'].values.max() + pd.Timedelta(days=1), freq='3H')[:-1]\n",
    "emission_hours = total_emission.reindex(time=all_times, method='nearest').ffill('time')\n",
    "emission_hours.to_netcdf(emission_data_path + \"resample/emissions.nc\")"
   ]
  },
  {
   "cell_type": "markdown",
   "metadata": {},
   "source": [
    "## Methane Concentration"
   ]
  },
  {
   "cell_type": "code",
   "execution_count": 4,
   "metadata": {},
   "outputs": [],
   "source": [
    "methane = xr.open_dataset(emission_data_path + \"total_column_methane.nc\", chunks={'time':1})\n",
    "methane = yearly_resample(methane['tc_ch4'], target_resolution,target_shape , target_crs = \"EPSG:4326\", resampler=Resampling.bilinear)\n",
    "methane.to_netcdf(emission_data_path + \"resample/total_column_methane.nc\")"
   ]
  },
  {
   "cell_type": "markdown",
   "metadata": {},
   "source": [
    "## Meteorological data"
   ]
  },
  {
   "cell_type": "code",
   "execution_count": 4,
   "metadata": {},
   "outputs": [
    {
     "name": "stdout",
     "output_type": "stream",
     "text": [
      "['u10', 'v10', 't2m', 'z', 'tcwv']\n"
     ]
    }
   ],
   "source": [
    "meteorology = xr.open_dataset(emission_data_path + \"meteorology/meteorology.nc\", chunks={'time':1})\n",
    "vars = list(meteorology.data_vars)\n",
    "\"\"\"\n",
    "u10: 10m u-component of wind\n",
    "v10: 10m v-component of wind\n",
    "t2m: 2m temperature\n",
    "z: surface geopotential 地面重力势能\n",
    "tcwv: Total column water vapour\n",
    "\"\"\"\n",
    "print(vars)"
   ]
  },
  {
   "cell_type": "code",
   "execution_count": 7,
   "metadata": {},
   "outputs": [],
   "source": [
    "meteo_resample = {}\n",
    "for var in vars:\n",
    "    data = yearly_resample(meteorology[var], target_resolution,target_shape , target_crs = \"EPSG:4326\", resampler=Resampling.bilinear)\n",
    "    meteo_resample[var] = data[var]\n",
    "meteo_resample = xr.Dataset(meteo_resample)\n",
    "meteo_resample.to_netcdf(emission_data_path + f\"resample/meteorology.nc\")"
   ]
  }
 ],
 "metadata": {
  "kernelspec": {
   "display_name": "ptorch12",
   "language": "python",
   "name": "python3"
  },
  "language_info": {
   "codemirror_mode": {
    "name": "ipython",
    "version": 3
   },
   "file_extension": ".py",
   "mimetype": "text/x-python",
   "name": "python",
   "nbconvert_exporter": "python",
   "pygments_lexer": "ipython3",
   "version": "3.10.13"
  }
 },
 "nbformat": 4,
 "nbformat_minor": 2
}
