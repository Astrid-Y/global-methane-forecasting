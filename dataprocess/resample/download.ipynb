{
 "cells": [
  {
   "cell_type": "markdown",
   "metadata": {},
   "source": [
    "## Download"
   ]
  },
  {
   "cell_type": "code",
   "execution_count": 1,
   "metadata": {},
   "outputs": [
    {
     "name": "stderr",
     "output_type": "stream",
     "text": [
      "/Users/bh223/anaconda3/envs/ame/lib/python3.10/site-packages/requests/__init__.py:109: RequestsDependencyWarning: urllib3 (2.1.0) or chardet (5.2.0)/charset_normalizer (None) doesn't match a supported version!\n",
      "  warnings.warn(\n",
      "2024-06-04 13:22:37,318 INFO Welcome to the CDS\n",
      "2024-06-04 13:22:37,319 INFO Sending request to https://ads.atmosphere.copernicus.eu/api/v2/resources/cams-global-fire-emissions-gfas\n",
      "2024-06-04 13:22:37,369 INFO Request is queued\n",
      "2024-06-04 13:22:38,462 INFO Request is running\n",
      "2024-06-04 13:28:55,895 INFO Request is completed\n",
      "2024-06-04 13:28:55,895 INFO Downloading https://download-0000-ads-clone.copernicus-climate.eu/cache-compute-0000/cache/data4/adaptor.mars_constrained.internal-1717503883.0785215-32723-16-ca4a22fc-20c7-4ff8-879b-a8b57823681c.nc to ./data/fire/CAMS_fire_0.1x0.1_2015.nc (4.4G)\n",
      "2024-06-04 13:43:04,382 INFO Download rate 5.3M/s   \n"
     ]
    },
    {
     "data": {
      "text/plain": [
       "Result(content_length=4730424180,content_type=application/x-netcdf,location=https://download-0000-ads-clone.copernicus-climate.eu/cache-compute-0000/cache/data4/adaptor.mars_constrained.internal-1717503883.0785215-32723-16-ca4a22fc-20c7-4ff8-879b-a8b57823681c.nc)"
      ]
     },
     "execution_count": 1,
     "metadata": {},
     "output_type": "execute_result"
    }
   ],
   "source": [
    "import cdsapi\n",
    "\n",
    "c = cdsapi.Client()\n",
    "\n",
    "c.retrieve(\n",
    "    'cams-global-fire-emissions-gfas',\n",
    "    {\n",
    "        'date': '2015-01-01/2015-12-31',\n",
    "        'format': 'netcdf',\n",
    "        'variable': 'wildfire_flux_of_methane',\n",
    "    },\n",
    "    './data/fire/CAMS_fire_0.1x0.1_2015.nc'\n",
    ")"
   ]
  },
  {
   "cell_type": "code",
   "execution_count": 1,
   "metadata": {},
   "outputs": [
    {
     "name": "stderr",
     "output_type": "stream",
     "text": [
      "/Users/bh223/anaconda3/envs/ame/lib/python3.10/site-packages/requests/__init__.py:109: RequestsDependencyWarning: urllib3 (2.1.0) or chardet (5.2.0)/charset_normalizer (None) doesn't match a supported version!\n",
      "  warnings.warn(\n",
      "2024-06-04 16:16:41,708 INFO Welcome to the CDS\n",
      "2024-06-04 16:16:41,708 INFO Sending request to https://ads.atmosphere.copernicus.eu/api/v2/resources/cams-global-reanalysis-eac4\n",
      "2024-06-04 16:16:41,853 INFO Request is completed\n",
      "2024-06-04 16:16:41,854 INFO Downloading https://download-0000-ads-clone.copernicus-climate.eu/cache-compute-0000/cache/data5/adaptor.mars.internal-1717508696.4633656-29315-7-a7becbcd-f949-4dc8-937f-46645af4e78c.nc to ./data/meteorology/download.nc (12.6G)\n",
      "2024-06-04 16:41:21,060 INFO Download rate 8.7M/s     \n"
     ]
    },
    {
     "data": {
      "text/plain": [
       "Result(content_length=13520730248,content_type=application/x-netcdf,location=https://download-0000-ads-clone.copernicus-climate.eu/cache-compute-0000/cache/data5/adaptor.mars.internal-1717508696.4633656-29315-7-a7becbcd-f949-4dc8-937f-46645af4e78c.nc)"
      ]
     },
     "execution_count": 1,
     "metadata": {},
     "output_type": "execute_result"
    }
   ],
   "source": [
    "import cdsapi\n",
    "\n",
    "c = cdsapi.Client()\n",
    "\n",
    "c.retrieve(\n",
    "    'cams-global-reanalysis-eac4',\n",
    "    {\n",
    "        'date': '2015-01-01/2018-12-31',\n",
    "        'format': 'netcdf',\n",
    "        'variable': [\n",
    "            '10m_u_component_of_wind', '10m_v_component_of_wind', '2m_temperature',\n",
    "            'surface_geopotential', 'total_column_water_vapour',\n",
    "        ],\n",
    "        # 'variable': [\n",
    "        #     'total_column_methane',\n",
    "        # ],\n",
    "        'time': [\n",
    "            '00:00', '03:00', '06:00',\n",
    "            '09:00', '12:00', '15:00',\n",
    "            '18:00', '21:00',\n",
    "        ],\n",
    "    },\n",
    "    './data/meteorology/download.nc')"
   ]
  }
 ],
 "metadata": {
  "kernelspec": {
   "display_name": "ame",
   "language": "python",
   "name": "python3"
  },
  "language_info": {
   "codemirror_mode": {
    "name": "ipython",
    "version": 3
   },
   "file_extension": ".py",
   "mimetype": "text/x-python",
   "name": "python",
   "nbconvert_exporter": "python",
   "pygments_lexer": "ipython3",
   "version": "3.10.13"
  }
 },
 "nbformat": 4,
 "nbformat_minor": 2
}
